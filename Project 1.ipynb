{
  "metadata": {
    "language_info": {
      "codemirror_mode": {
        "name": "python",
        "version": 3
      },
      "file_extension": ".py",
      "mimetype": "text/x-python",
      "name": "python",
      "nbconvert_exporter": "python",
      "pygments_lexer": "ipython3",
      "version": "3.8"
    },
    "kernelspec": {
      "name": "python",
      "display_name": "Python (Pyodide)",
      "language": "python"
    }
  },
  "nbformat_minor": 4,
  "nbformat": 4,
  "cells": [
    {
      "cell_type": "markdown",
      "source": "# Data Science Tools and Ecosystems",
      "metadata": {}
    },
    {
      "cell_type": "markdown",
      "source": "## In this notebook, Data Science Tools and Ecosystem are summarized.",
      "metadata": {}
    },
    {
      "cell_type": "markdown",
      "source": "## Some of the popular languages that Data Scientists use are:\n## 1. Python\n## 2. R\n## 3. SQL\n## 4. Java\n## 5. Julia",
      "metadata": {}
    },
    {
      "cell_type": "markdown",
      "source": "## Objectives: \n* List commonly used libraries by data scientists.\n* Write arithmetic expressions in Python.\n* Create a table.",
      "metadata": {}
    },
    {
      "cell_type": "markdown",
      "source": "## Some of the commonly used libraries used by Data Scientists include: \n## 1. TensorFlow\n## 2. NumPy\n## 3. Matplotlib \n## 4. Pandas\n## 5. SciKit-Learn",
      "metadata": {}
    },
    {
      "cell_type": "markdown",
      "source": "| Data Science Tools|\n| ------------------ |\n| Project Jupyter |\n| Apache Spark |\n| Apache Hadoop |",
      "metadata": {}
    },
    {
      "cell_type": "markdown",
      "source": "### Below are a few examples of evaluating arithmetic expressions in Python.\n\nprint(9 + 8)\nprint(7 - 6)\nprint(5 * 4)\nprint(3 / 2)\nprint(1 + 2 + 3 + 4)\nprint(12 - 16 + 7)\n",
      "metadata": {}
    },
    {
      "cell_type": "code",
      "source": "### This a simple arithmetic expression to mutiply then add integers. \n\nprint((3 * 4 ) + 5)",
      "metadata": {
        "trusted": true
      },
      "execution_count": 16,
      "outputs": [
        {
          "name": "stdout",
          "text": "17\n",
          "output_type": "stream"
        }
      ]
    },
    {
      "cell_type": "code",
      "source": " ### This will convert 200 minutes to hours by diving by 60\nprint(200 / 60)",
      "metadata": {
        "trusted": true
      },
      "execution_count": 17,
      "outputs": [
        {
          "name": "stdout",
          "text": "3.3333333333333335\n",
          "output_type": "stream"
        }
      ]
    },
    {
      "cell_type": "markdown",
      "source": "## Author \nB Delariva ",
      "metadata": {}
    },
    {
      "cell_type": "code",
      "source": "",
      "metadata": {},
      "execution_count": null,
      "outputs": []
    }
  ]
}